{
 "cells": [
  {
   "cell_type": "markdown",
   "metadata": {},
   "source": [
    "# 📈 Backtesting Strategy using Yahoo Finance Data\n",
    "This notebook loads stock ranking signals, fetches real stock prices from Yahoo Finance, \n",
    "processes the signals into a long/short portfolio, and backtests the strategy."
   ]
  },
  {
   "cell_type": "code",
   "execution_count": null,
   "metadata": {},
   "outputs": [],
   "source": [
    "!pip install pandas numpy"
   ]
  },
  {
   "cell_type": "markdown",
   "metadata": {},
   "source": [
    "## 📌 Step 1: Import Required Libraries"
   ]
  },
  {
   "cell_type": "code",
   "execution_count": null,
   "metadata": {},
   "outputs": [],
   "source": [
    "import pandas as pd\n",
    "import numpy as np"
   ]
  },
  {
   "cell_type": "markdown",
   "metadata": {},
   "source": [
    "## 📌 Step 2: Load and Prepare Data"
   ]
  },
  {
   "cell_type": "code",
   "execution_count": null,
   "metadata": {},
   "outputs": [],
   "source": [
    "# Load CSV file containing trend ranking data\n",
    "df = pd.read_csv('https://storage.googleapis.com/antedata_open/AllDat_excerpt_ticker.csv')\n",
    "\n",
    "# Filter timeseries where source is 'Aggregate'\n",
    "df = df[df['source'] == 'Aggregate'][['date', 'ticker', 'TrendRank']]\n",
    "\n",
    "# Reshape data from long to wide format (pivot table)\n",
    "df = df.pivot(index='date', columns='ticker', values='TrendRank')\n",
    "\n",
    "# Convert date column to datetime format\n",
    "df.index = pd.to_datetime(df.index)\n",
    "\n",
    "# Adjust signals to align with Fridays\n",
    "df.index = df.index + pd.DateOffset(days=4)\n",
    "\n",
    "# Display first few rows\n",
    "df.head()"
   ]
  }
 ],
 "metadata": {
  "language_info": {
   "name": "python"
  }
 },
 "nbformat": 4,
 "nbformat_minor": 2
}
