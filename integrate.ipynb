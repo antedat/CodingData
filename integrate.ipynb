{
 "cells": [
  {
   "cell_type": "markdown",
   "metadata": {},
   "source": [
    "## This snippet loads a sample file of our CodingActivity Data and converts it to a time-series matrix: \n",
    ""
   ]
  },
  {
   "cell_type": "code",
   "execution_count": null,
   "metadata": {},
   "outputs": [],
   "source": [
    "!pip install pandas numpy"
   ]
  },
  {
   "cell_type": "markdown",
   "metadata": {},
   "source": [
    "## 📌 Step 1: Import Required Libraries"
   ]
  },
  {
   "cell_type": "code",
   "execution_count": null,
   "metadata": {},
   "outputs": [],
   "source": [
    "import pandas as pd\n",
    "import numpy as np"
   ]
  },
  {
   "cell_type": "markdown",
   "metadata": {},
   "source": [
    "## 📌 Step 2: Load and Prepare Data"
   ]
  },
  {
   "cell_type": "code",
   "execution_count": null,
   "metadata": {},
   "outputs": [],
   "source": [
    "# Load CSV file containing trend ranking data\n",
    "df = pd.read_csv('https://storage.googleapis.com/antedata_open/AllDat_excerpt_ticker.csv')\n",
    "\n",
    "# Filter timeseries where source is 'Aggregate' and get TrendRank values \n",
    "df = df[df['source'] == 'Aggregate'][['date', 'ticker', 'TrendRank']]\n",
    "\n",
    "# Reshape data from long to wide format (pivot table)\n",
    "df = df.pivot(index='date', columns='ticker', values='TrendRank')\n",
    "\n",
    "# Convert date column to datetime format\n",
    "df.index = pd.to_datetime(df.index)\n",
    "\n",
    "# Display first few rows\n",
    "df.head()"
   ]
  }
 ],
 "metadata": {
  "language_info": {
   "name": "python"
  }
 },
 "nbformat": 4,
 "nbformat_minor": 2
}
